{
 "cells": [
  {
   "cell_type": "code",
   "execution_count": 19,
   "metadata": {},
   "outputs": [],
   "source": [
    "import os\n",
    "import sys\n",
    "\n",
    "parent_dir = os.path.dirname(os.getcwd())\n",
    "sys.path.append(os.path.join(parent_dir, 'src'))\n",
    "\n",
    "from python import DataStructureProcessing\n"
   ]
  },
  {
   "cell_type": "code",
   "execution_count": 18,
   "metadata": {},
   "outputs": [
    {
     "data": {
      "text/plain": [
       "<module 'python' from 'd:\\\\Projects\\\\utils\\\\src\\\\python.py'>"
      ]
     },
     "execution_count": 18,
     "metadata": {},
     "output_type": "execute_result"
    }
   ],
   "source": [
    "from importlib import reload\n",
    "import python\n",
    "reload(python)"
   ]
  },
  {
   "cell_type": "code",
   "execution_count": 2,
   "metadata": {},
   "outputs": [],
   "source": [
    "            >>> diction = {\n",
    "            ...     \"key1\": {\n",
    "            ...         \"key1_1\": \"str\",\n",
    "            ...         \"key1_2\": \"str\"\n",
    "            ...     },\n",
    "            ...     \"key2\": [\n",
    "            ...         {\"key2_1\": \"str\"},\n",
    "            ...         {\"key2_2\": \"str\"}\n",
    "            ...     ],\n",
    "            ...     \"key3\": \"str\"\n",
    "            ... }"
   ]
  },
  {
   "cell_type": "code",
   "execution_count": 21,
   "metadata": {},
   "outputs": [
    {
     "name": "stdout",
     "output_type": "stream",
     "text": [
      "{\n",
      "    \"key1\": {\n",
      "        \"key1_1\": \"str\",\n",
      "        \"key1_2\": \"str\"\n",
      "    },\n",
      "    \"key2\": [\n",
      "        {\n",
      "            \"key2_1\": \"str\"\n",
      "        }\n",
      "    ],\n",
      "    \"key3\": \"str\"\n",
      "}\n"
     ]
    },
    {
     "data": {
      "text/plain": [
       "{'key1': {'key1_1': 'str', 'key1_2': 'str'},\n",
       " 'key2': [{'key2_1': 'str'}],\n",
       " 'key3': 'str'}"
      ]
     },
     "execution_count": 21,
     "metadata": {},
     "output_type": "execute_result"
    }
   ],
   "source": [
    "DataStructureProcessing.key_structure(diction)"
   ]
  }
 ],
 "metadata": {
  "kernelspec": {
   "display_name": "base",
   "language": "python",
   "name": "python3"
  },
  "language_info": {
   "codemirror_mode": {
    "name": "ipython",
    "version": 3
   },
   "file_extension": ".py",
   "mimetype": "text/x-python",
   "name": "python",
   "nbconvert_exporter": "python",
   "pygments_lexer": "ipython3",
   "version": "3.11.7"
  }
 },
 "nbformat": 4,
 "nbformat_minor": 2
}
